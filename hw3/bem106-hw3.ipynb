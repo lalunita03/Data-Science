{
 "cells": [
  {
   "cell_type": "code",
   "execution_count": 1,
   "metadata": {},
   "outputs": [],
   "source": [
    "## Import necessary packages\n",
    "import pandas as pd\n",
    "import numpy as np\n",
    "import random\n",
    "import matplotlib.pyplot as plt\n",
    "import statsmodels.formula.api as smf"
   ]
  },
  {
   "cell_type": "code",
   "execution_count": 4,
   "metadata": {},
   "outputs": [
    {
     "data": {
      "text/html": [
       "<div>\n",
       "<style scoped>\n",
       "    .dataframe tbody tr th:only-of-type {\n",
       "        vertical-align: middle;\n",
       "    }\n",
       "\n",
       "    .dataframe tbody tr th {\n",
       "        vertical-align: top;\n",
       "    }\n",
       "\n",
       "    .dataframe thead th {\n",
       "        text-align: right;\n",
       "    }\n",
       "</style>\n",
       "<table border=\"1\" class=\"dataframe\">\n",
       "  <thead>\n",
       "    <tr style=\"text-align: right;\">\n",
       "      <th></th>\n",
       "      <th>y1</th>\n",
       "      <th>y2</th>\n",
       "      <th>y3</th>\n",
       "      <th>x1</th>\n",
       "      <th>x2</th>\n",
       "      <th>x3</th>\n",
       "    </tr>\n",
       "  </thead>\n",
       "  <tbody>\n",
       "    <tr>\n",
       "      <th>0</th>\n",
       "      <td>337.040</td>\n",
       "      <td>50.329</td>\n",
       "      <td>-4.271</td>\n",
       "      <td>94.45</td>\n",
       "      <td>49.39</td>\n",
       "      <td>2.10</td>\n",
       "    </tr>\n",
       "    <tr>\n",
       "      <th>1</th>\n",
       "      <td>297.643</td>\n",
       "      <td>42.025</td>\n",
       "      <td>-1.395</td>\n",
       "      <td>82.66</td>\n",
       "      <td>43.53</td>\n",
       "      <td>1.67</td>\n",
       "    </tr>\n",
       "    <tr>\n",
       "      <th>2</th>\n",
       "      <td>172.656</td>\n",
       "      <td>22.318</td>\n",
       "      <td>-5.242</td>\n",
       "      <td>26.52</td>\n",
       "      <td>30.24</td>\n",
       "      <td>1.06</td>\n",
       "    </tr>\n",
       "    <tr>\n",
       "      <th>3</th>\n",
       "      <td>203.846</td>\n",
       "      <td>36.770</td>\n",
       "      <td>-12.630</td>\n",
       "      <td>49.02</td>\n",
       "      <td>33.56</td>\n",
       "      <td>1.90</td>\n",
       "    </tr>\n",
       "    <tr>\n",
       "      <th>4</th>\n",
       "      <td>429.881</td>\n",
       "      <td>33.724</td>\n",
       "      <td>6.944</td>\n",
       "      <td>68.37</td>\n",
       "      <td>78.40</td>\n",
       "      <td>1.03</td>\n",
       "    </tr>\n",
       "    <tr>\n",
       "      <th>...</th>\n",
       "      <td>...</td>\n",
       "      <td>...</td>\n",
       "      <td>...</td>\n",
       "      <td>...</td>\n",
       "      <td>...</td>\n",
       "      <td>...</td>\n",
       "    </tr>\n",
       "    <tr>\n",
       "      <th>4621</th>\n",
       "      <td>88.649</td>\n",
       "      <td>27.891</td>\n",
       "      <td>-20.209</td>\n",
       "      <td>7.98</td>\n",
       "      <td>15.95</td>\n",
       "      <td>1.85</td>\n",
       "    </tr>\n",
       "    <tr>\n",
       "      <th>4622</th>\n",
       "      <td>453.415</td>\n",
       "      <td>50.916</td>\n",
       "      <td>2.296</td>\n",
       "      <td>95.65</td>\n",
       "      <td>72.66</td>\n",
       "      <td>1.87</td>\n",
       "    </tr>\n",
       "    <tr>\n",
       "      <th>4623</th>\n",
       "      <td>468.587</td>\n",
       "      <td>36.833</td>\n",
       "      <td>-8.147</td>\n",
       "      <td>24.24</td>\n",
       "      <td>97.75</td>\n",
       "      <td>1.73</td>\n",
       "    </tr>\n",
       "    <tr>\n",
       "      <th>4624</th>\n",
       "      <td>213.486</td>\n",
       "      <td>32.082</td>\n",
       "      <td>-10.298</td>\n",
       "      <td>38.02</td>\n",
       "      <td>37.48</td>\n",
       "      <td>1.63</td>\n",
       "    </tr>\n",
       "    <tr>\n",
       "      <th>4625</th>\n",
       "      <td>175.347</td>\n",
       "      <td>41.536</td>\n",
       "      <td>2.016</td>\n",
       "      <td>99.99</td>\n",
       "      <td>7.88</td>\n",
       "      <td>1.52</td>\n",
       "    </tr>\n",
       "  </tbody>\n",
       "</table>\n",
       "<p>4626 rows × 6 columns</p>\n",
       "</div>"
      ],
      "text/plain": [
       "           y1      y2      y3     x1     x2    x3\n",
       "0     337.040  50.329  -4.271  94.45  49.39  2.10\n",
       "1     297.643  42.025  -1.395  82.66  43.53  1.67\n",
       "2     172.656  22.318  -5.242  26.52  30.24  1.06\n",
       "3     203.846  36.770 -12.630  49.02  33.56  1.90\n",
       "4     429.881  33.724   6.944  68.37  78.40  1.03\n",
       "...       ...     ...     ...    ...    ...   ...\n",
       "4621   88.649  27.891 -20.209   7.98  15.95  1.85\n",
       "4622  453.415  50.916   2.296  95.65  72.66  1.87\n",
       "4623  468.587  36.833  -8.147  24.24  97.75  1.73\n",
       "4624  213.486  32.082 -10.298  38.02  37.48  1.63\n",
       "4625  175.347  41.536   2.016  99.99   7.88  1.52\n",
       "\n",
       "[4626 rows x 6 columns]"
      ]
     },
     "metadata": {},
     "output_type": "display_data"
    }
   ],
   "source": [
    "## Import data\n",
    "data = pd.read_excel(\"hw3-dataset.xlsx\")\n",
    "display(data)"
   ]
  },
  {
   "cell_type": "code",
   "execution_count": 38,
   "metadata": {},
   "outputs": [
    {
     "name": "stdout",
     "output_type": "stream",
     "text": [
      "correlation between x1 and x2: 0.013459742754288838\n",
      "\n",
      "I think b1 will be biased. Since b2 was positive there is a positive correlation between x2 and y1 and the correlation between x1 and x2 is positive so based on the 2x2 matrix from lecture it would be an overestimate.\n",
      "\n"
     ]
    },
    {
     "data": {
      "text/html": [
       "<table class=\"simpletable\">\n",
       "<tr>\n",
       "      <td></td>         <th>coef</th>     <th>std err</th>      <th>z</th>      <th>P>|z|</th>  <th>[0.025</th>    <th>0.975]</th>  \n",
       "</tr>\n",
       "<tr>\n",
       "  <th>Intercept</th> <td>  222.2364</td> <td>    3.860</td> <td>   57.572</td> <td> 0.000</td> <td>  214.671</td> <td>  229.802</td>\n",
       "</tr>\n",
       "<tr>\n",
       "  <th>x1</th>        <td>    1.3594</td> <td>    0.066</td> <td>   20.659</td> <td> 0.000</td> <td>    1.230</td> <td>    1.488</td>\n",
       "</tr>\n",
       "</table>"
      ],
      "text/latex": [
       "\\begin{center}\n",
       "\\begin{tabular}{lcccccc}\n",
       "\\toprule\n",
       "                   & \\textbf{coef} & \\textbf{std err} & \\textbf{z} & \\textbf{P$> |$z$|$} & \\textbf{[0.025} & \\textbf{0.975]}  \\\\\n",
       "\\midrule\n",
       "\\textbf{Intercept} &     222.2364  &        3.860     &    57.572  &         0.000        &      214.671    &      229.802     \\\\\n",
       "\\textbf{x1}        &       1.3594  &        0.066     &    20.659  &         0.000        &        1.230    &        1.488     \\\\\n",
       "\\bottomrule\n",
       "\\end{tabular}\n",
       "\\end{center}"
      ],
      "text/plain": [
       "<class 'statsmodels.iolib.table.SimpleTable'>"
      ]
     },
     "metadata": {},
     "output_type": "display_data"
    },
    {
     "name": "stdout",
     "output_type": "stream",
     "text": [
      "\n",
      "Yes, my hypothesis was correct because b1 is now 1.3594 compared to 1.3 before, therefore it must be an overestimate.\n"
     ]
    }
   ],
   "source": [
    "# Part 1\n",
    "# The (artificially created) model of the world is\n",
    "#                    y1 = 1.3x1 + 4.5x2 + error\n",
    "\n",
    "# Question 1: What is the correlation between x1 and x2?\n",
    "correlation = data[['x1', 'x2']].corr()\n",
    "print(\"correlation between x1 and x2: \" + str(correlation.iloc[0, 1]) + \"\\n\")\n",
    "\n",
    "# Question 2: You're thinking about estimating the model: y1 = b0+ b1*x1 + error\n",
    "##  that is, you are omitting x2\n",
    "\n",
    "## Before estimating, do you think b1 will be biased? Why or why not? If yes, will b1 be an overestimate or an underestimate?\n",
    "print(\"I think b1 will be biased. Since b2 was positive there is a positive correlation between x2 and y1 and the correlation \"\n",
    "      + \"between x1 and x2 is positive so based on the 2x2 matrix from lecture it would be an overestimate.\\n\")\n",
    "\n",
    "# Question 3: Estimate the model: y1 = b0 + b1*x1 + error\n",
    "model = smf.ols(formula='y1 ~ x1', data = data).fit(cov_type='HC3')\n",
    "display(model.summary().tables[1])\n",
    "\n",
    "## Was your hypothesis in Question 2 correct?\n",
    "print(\"\\nYes, my hypothesis was correct because b1 is now 1.3594 compared to 1.3 before, therefore it must be an overestimate.\")"
   ]
  },
  {
   "cell_type": "code",
   "execution_count": 39,
   "metadata": {},
   "outputs": [
    {
     "name": "stdout",
     "output_type": "stream",
     "text": [
      "correlation between x2 and x3: 0.36903378090772404\n",
      "\n",
      "I think b2 will be biased. Since b3 was positive there is a positive correlation between x3 and y2 and the correlation between x2 and x3 is positive so based on the 2x2 matrix from lecture it would be an overestimate.\n",
      "\n"
     ]
    },
    {
     "data": {
      "text/html": [
       "<table class=\"simpletable\">\n",
       "<tr>\n",
       "      <td></td>         <th>coef</th>     <th>std err</th>      <th>z</th>      <th>P>|z|</th>  <th>[0.025</th>    <th>0.975]</th>  \n",
       "</tr>\n",
       "<tr>\n",
       "  <th>Intercept</th> <td>   21.0889</td> <td>    0.156</td> <td>  135.464</td> <td> 0.000</td> <td>   20.784</td> <td>   21.394</td>\n",
       "</tr>\n",
       "<tr>\n",
       "  <th>x1</th>        <td>    0.1994</td> <td>    0.002</td> <td>  107.063</td> <td> 0.000</td> <td>    0.196</td> <td>    0.203</td>\n",
       "</tr>\n",
       "<tr>\n",
       "  <th>x2</th>        <td>    0.1486</td> <td>    0.002</td> <td>   75.219</td> <td> 0.000</td> <td>    0.145</td> <td>    0.153</td>\n",
       "</tr>\n",
       "</table>"
      ],
      "text/latex": [
       "\\begin{center}\n",
       "\\begin{tabular}{lcccccc}\n",
       "\\toprule\n",
       "                   & \\textbf{coef} & \\textbf{std err} & \\textbf{z} & \\textbf{P$> |$z$|$} & \\textbf{[0.025} & \\textbf{0.975]}  \\\\\n",
       "\\midrule\n",
       "\\textbf{Intercept} &      21.0889  &        0.156     &   135.464  &         0.000        &       20.784    &       21.394     \\\\\n",
       "\\textbf{x1}        &       0.1994  &        0.002     &   107.063  &         0.000        &        0.196    &        0.203     \\\\\n",
       "\\textbf{x2}        &       0.1486  &        0.002     &    75.219  &         0.000        &        0.145    &        0.153     \\\\\n",
       "\\bottomrule\n",
       "\\end{tabular}\n",
       "\\end{center}"
      ],
      "text/plain": [
       "<class 'statsmodels.iolib.table.SimpleTable'>"
      ]
     },
     "metadata": {},
     "output_type": "display_data"
    },
    {
     "name": "stdout",
     "output_type": "stream",
     "text": [
      "\n",
      "Yes, my hypothesis was correct because b2 is now 0.1486 compared to 0.1 before, therefore it must be an overestimate.\n"
     ]
    }
   ],
   "source": [
    "# Part 2\n",
    "# The (artificially created) model of the world is\n",
    "#                    y2 = 0.2x1 + 0.1x2 + 13x3 + error\n",
    "\n",
    "\n",
    "# Question 4: What is the correlation between x2 and x3?\n",
    "correlation = data[['x2', 'x3']].corr()\n",
    "print(\"correlation between x2 and x3: \" + str(correlation.iloc[0, 1]) + \"\\n\")\n",
    "\n",
    "# Question 5: You're thinking about estimating the model: y2 = b0+ b1*x1 + b2*x2 + error\n",
    "##  that is, you are omitting x3\n",
    "\n",
    "## Before estimating, do you think b2 will be biased? Why or why not? If yes, will b2 be an overestimate or an underestimate?\n",
    "print(\"I think b2 will be biased. Since b3 was positive there is a positive correlation between x3 and y2 and the correlation \"\n",
    "      + \"between x2 and x3 is positive so based on the 2x2 matrix from lecture it would be an overestimate.\\n\")\n",
    "\n",
    "# Question 6: Estimate the model: y2 = b0+ b1*x1 + b2*x2 + error\n",
    "model = smf.ols(formula='y2 ~ x1 + x2', data = data).fit(cov_type='HC3')\n",
    "display(model.summary().tables[1])\n",
    "\n",
    "## Was your hypothesis in Question 2 correct?\n",
    "print(\"\\nYes, my hypothesis was correct because b2 is now 0.1486 compared to 0.1 before, therefore it must be an overestimate.\")"
   ]
  },
  {
   "cell_type": "code",
   "execution_count": 40,
   "metadata": {},
   "outputs": [
    {
     "name": "stdout",
     "output_type": "stream",
     "text": [
      "correlation between x2 and x3: 0.36903378090772404\n",
      "\n",
      "I think b2 will be biased. Since b3 was negative there is a negative correlation between x3 and y3 and the correlation between x2 and x3 is positive so based on the 2x2 matrix from lecture it would be an underestimate.\n",
      "\n"
     ]
    },
    {
     "data": {
      "text/html": [
       "<table class=\"simpletable\">\n",
       "<tr>\n",
       "      <td></td>         <th>coef</th>     <th>std err</th>      <th>z</th>      <th>P>|z|</th>  <th>[0.025</th>    <th>0.975]</th>  \n",
       "</tr>\n",
       "<tr>\n",
       "  <th>Intercept</th> <td>  -21.1525</td> <td>    0.153</td> <td> -137.976</td> <td> 0.000</td> <td>  -21.453</td> <td>  -20.852</td>\n",
       "</tr>\n",
       "<tr>\n",
       "  <th>x1</th>        <td>    0.2005</td> <td>    0.002</td> <td>  108.573</td> <td> 0.000</td> <td>    0.197</td> <td>    0.204</td>\n",
       "</tr>\n",
       "<tr>\n",
       "  <th>x2</th>        <td>    0.0538</td> <td>    0.002</td> <td>   27.250</td> <td> 0.000</td> <td>    0.050</td> <td>    0.058</td>\n",
       "</tr>\n",
       "</table>"
      ],
      "text/latex": [
       "\\begin{center}\n",
       "\\begin{tabular}{lcccccc}\n",
       "\\toprule\n",
       "                   & \\textbf{coef} & \\textbf{std err} & \\textbf{z} & \\textbf{P$> |$z$|$} & \\textbf{[0.025} & \\textbf{0.975]}  \\\\\n",
       "\\midrule\n",
       "\\textbf{Intercept} &     -21.1525  &        0.153     &  -137.976  &         0.000        &      -21.453    &      -20.852     \\\\\n",
       "\\textbf{x1}        &       0.2005  &        0.002     &   108.573  &         0.000        &        0.197    &        0.204     \\\\\n",
       "\\textbf{x2}        &       0.0538  &        0.002     &    27.250  &         0.000        &        0.050    &        0.058     \\\\\n",
       "\\bottomrule\n",
       "\\end{tabular}\n",
       "\\end{center}"
      ],
      "text/plain": [
       "<class 'statsmodels.iolib.table.SimpleTable'>"
      ]
     },
     "metadata": {},
     "output_type": "display_data"
    },
    {
     "name": "stdout",
     "output_type": "stream",
     "text": [
      "\n",
      "Yes, my hypothesis was correct because b2 is now 0.0538 compared to 0.1 before, therefore it must be an underestimate.\n"
     ]
    }
   ],
   "source": [
    "# Part 3\n",
    "# The (artificially created) model of the world is\n",
    "#                    y3 = 0.2x1 + 0.1x2 - 13x3 + error\n",
    "\n",
    "# Question 7: What is the correlation between x2 and x3?\n",
    "correlation = data[['x2', 'x3']].corr()\n",
    "print(\"correlation between x2 and x3: \" + str(correlation.iloc[0, 1]) + \"\\n\")\n",
    "\n",
    "# Question 8: You're thinking about estimating the model: y3 = b0+ b1*x1 + b2*x2 + error\n",
    "##  that is, you are omitting x3\n",
    "\n",
    "## Before estimating, do you think b2 will be biased? Why or why not? If yes, will b2 be an overestimate or an underestimate?\n",
    "print(\"I think b2 will be biased. Since b3 was negative there is a negative correlation between x3 and y3 and the correlation \"\n",
    "      + \"between x2 and x3 is positive so based on the 2x2 matrix from lecture it would be an underestimate.\\n\")\n",
    "\n",
    "# Question 9: Estimate the model: y2 = b0+ b1*x1 + b2*x2 + error\n",
    "model = smf.ols(formula='y3 ~ x1 + x2', data = data).fit(cov_type='HC3')\n",
    "display(model.summary().tables[1])\n",
    "\n",
    "## Was your hypothesis in Question 2 correct?\n",
    "print(\"\\nYes, my hypothesis was correct because b2 is now 0.0538 compared to 0.1 before, therefore it must be an underestimate.\")"
   ]
  }
 ],
 "metadata": {
  "kernelspec": {
   "display_name": "Python 3 (ipykernel)",
   "language": "python",
   "name": "python3"
  },
  "language_info": {
   "codemirror_mode": {
    "name": "ipython",
    "version": 3
   },
   "file_extension": ".py",
   "mimetype": "text/x-python",
   "name": "python",
   "nbconvert_exporter": "python",
   "pygments_lexer": "ipython3",
   "version": "3.11.7"
  }
 },
 "nbformat": 4,
 "nbformat_minor": 4
}
